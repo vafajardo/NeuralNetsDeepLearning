{
 "cells": [
  {
   "cell_type": "code",
   "execution_count": 1,
   "metadata": {
    "collapsed": false
   },
   "outputs": [],
   "source": [
    "import numpy as np\n",
    "import mlp\n",
    "from sklearn import datasets"
   ]
  },
  {
   "cell_type": "code",
   "execution_count": 2,
   "metadata": {
    "collapsed": false
   },
   "outputs": [],
   "source": [
    "iris = datasets.load_iris()\n",
    "Xraw = iris.data[:,:4]\n",
    "Yraw = iris.target"
   ]
  },
  {
   "cell_type": "markdown",
   "metadata": {},
   "source": [
    "### Pre-processing the raw data"
   ]
  },
  {
   "cell_type": "markdown",
   "metadata": {},
   "source": [
    "#### Normalizing Features"
   ]
  },
  {
   "cell_type": "code",
   "execution_count": 3,
   "metadata": {
    "collapsed": false
   },
   "outputs": [],
   "source": [
    "X = (Xraw - Xraw.mean(axis=0))/Xraw.max(axis=0)"
   ]
  },
  {
   "cell_type": "markdown",
   "metadata": {},
   "source": [
    "#### Encoding the Targets"
   ]
  },
  {
   "cell_type": "code",
   "execution_count": 4,
   "metadata": {
    "collapsed": false
   },
   "outputs": [],
   "source": [
    "Y = np.zeros((Yraw.shape[0],3))\n",
    "Y[:,0] = np.where(Yraw == 0, 1, 0)\n",
    "Y[:,1] = np.where(Yraw == 1, 1, 0)\n",
    "Y[:,2] = np.where(Yraw == 2, 1, 0)"
   ]
  },
  {
   "cell_type": "markdown",
   "metadata": {},
   "source": [
    "### Split data into Training, Testing, and Validation Sets"
   ]
  },
  {
   "cell_type": "code",
   "execution_count": 5,
   "metadata": {
    "collapsed": false
   },
   "outputs": [],
   "source": [
    "np.random.seed(1)"
   ]
  },
  {
   "cell_type": "code",
   "execution_count": 6,
   "metadata": {
    "collapsed": true
   },
   "outputs": [],
   "source": [
    "# split data into train, test, validation sets\n",
    "ixs = np.arange(len(X))\n",
    "np.random.shuffle(ixs)\n",
    "X = X[ixs,:]\n",
    "Y = Y[ixs,:]"
   ]
  },
  {
   "cell_type": "code",
   "execution_count": 7,
   "metadata": {
    "collapsed": true
   },
   "outputs": [],
   "source": [
    "Xtrain, Xtest, Xval = X[::2], X[1::4], X[3::4]"
   ]
  },
  {
   "cell_type": "code",
   "execution_count": 8,
   "metadata": {
    "collapsed": true
   },
   "outputs": [],
   "source": [
    "Ytrain, Ytest, Yval = Y[::2], Y[1::4], Y[3::4]"
   ]
  },
  {
   "cell_type": "code",
   "execution_count": 9,
   "metadata": {
    "collapsed": false
   },
   "outputs": [],
   "source": [
    "mlp1 = mlp.mlp(Xtrain, Ytrain, np.array([5]))"
   ]
  },
  {
   "cell_type": "code",
   "execution_count": 10,
   "metadata": {
    "collapsed": false
   },
   "outputs": [
    {
     "data": {
      "text/plain": [
       "array([4, 5, 3])"
      ]
     },
     "execution_count": 10,
     "metadata": {},
     "output_type": "execute_result"
    }
   ],
   "source": [
    "mlp1.arch"
   ]
  },
  {
   "cell_type": "code",
   "execution_count": 11,
   "metadata": {
    "collapsed": false
   },
   "outputs": [
    {
     "name": "stdout",
     "output_type": "stream",
     "text": [
      "Stopped after 17 epochs\n"
     ]
    }
   ],
   "source": [
    "mlp1.train(Xtrain, Ytrain, Xval, Yval)"
   ]
  },
  {
   "cell_type": "code",
   "execution_count": 12,
   "metadata": {
    "collapsed": false
   },
   "outputs": [
    {
     "data": {
      "text/plain": [
       "[array([[  7.02234844e-01,  -2.14514083e+00,  -1.35849254e+00,\n",
       "           1.52521419e+00,  -2.76542928e+00],\n",
       "        [ -1.26193034e-01,  -1.84743205e+00,  -3.87687652e-01,\n",
       "           3.33906378e-01,  -4.77249539e-01],\n",
       "        [  2.49553542e-03,   2.56618250e+00,   1.71350413e+00,\n",
       "           1.79154186e+00,  -2.57369824e+00],\n",
       "        [ -8.77007855e-01,  -5.65301350e+00,  -3.60447512e+00,\n",
       "          -3.11439119e+00,   5.74884236e+00],\n",
       "        [ -1.26312603e+00,  -5.09211177e+00,  -3.17574015e+00,\n",
       "          -4.43642304e+00,   7.95662642e+00]]),\n",
       " array([[-3.51137687,  1.81132696,  0.42201971],\n",
       "        [-0.88364363,  1.1497938 , -1.37610687],\n",
       "        [ 4.41753029, -6.80977866, -2.5214    ],\n",
       "        [ 2.68486245, -2.58314549, -3.27461225],\n",
       "        [ 1.40679533,  2.4895717 , -5.05873974],\n",
       "        [-5.35150919, -7.14516933,  6.5562209 ]])]"
      ]
     },
     "execution_count": 12,
     "metadata": {},
     "output_type": "execute_result"
    }
   ],
   "source": [
    "mlp1.weights"
   ]
  },
  {
   "cell_type": "code",
   "execution_count": 13,
   "metadata": {
    "collapsed": false
   },
   "outputs": [
    {
     "name": "stdout",
     "output_type": "stream",
     "text": [
      "Error: 0.052631578947368474\n"
     ]
    },
    {
     "data": {
      "text/plain": [
       "array([[ 10.,   0.,   0.],\n",
       "       [  0.,  16.,   0.],\n",
       "       [  0.,   2.,  10.]])"
      ]
     },
     "execution_count": 13,
     "metadata": {},
     "output_type": "execute_result"
    }
   ],
   "source": [
    "mlp1.cfnmatrix(Xtest,Ytest)"
   ]
  }
 ],
 "metadata": {
  "kernelspec": {
   "display_name": "Python 3",
   "language": "python",
   "name": "python3"
  },
  "language_info": {
   "codemirror_mode": {
    "name": "ipython",
    "version": 3
   },
   "file_extension": ".py",
   "mimetype": "text/x-python",
   "name": "python",
   "nbconvert_exporter": "python",
   "pygments_lexer": "ipython3",
   "version": "3.5.1"
  }
 },
 "nbformat": 4,
 "nbformat_minor": 0
}
