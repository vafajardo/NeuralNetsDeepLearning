{
 "cells": [
  {
   "cell_type": "code",
   "execution_count": 1,
   "metadata": {
    "collapsed": false
   },
   "outputs": [],
   "source": [
    "import numpy as np\n",
    "import mlp\n",
    "from sklearn import datasets"
   ]
  },
  {
   "cell_type": "code",
   "execution_count": 2,
   "metadata": {
    "collapsed": false
   },
   "outputs": [],
   "source": [
    "iris = datasets.load_iris()\n",
    "Xraw = iris.data[:,:4]\n",
    "Yraw = iris.target"
   ]
  },
  {
   "cell_type": "markdown",
   "metadata": {},
   "source": [
    "### Pre-processing the raw data"
   ]
  },
  {
   "cell_type": "markdown",
   "metadata": {},
   "source": [
    "#### Normalizing Features"
   ]
  },
  {
   "cell_type": "code",
   "execution_count": 3,
   "metadata": {
    "collapsed": false
   },
   "outputs": [],
   "source": [
    "X = (Xraw - Xraw.mean(axis=0))/Xraw.max(axis=0)"
   ]
  },
  {
   "cell_type": "markdown",
   "metadata": {},
   "source": [
    "#### Encoding the Targets"
   ]
  },
  {
   "cell_type": "code",
   "execution_count": 4,
   "metadata": {
    "collapsed": false
   },
   "outputs": [],
   "source": [
    "Y = np.zeros((Yraw.shape[0],3))\n",
    "Y[:,0] = np.where(Yraw == 0, 1, 0)\n",
    "Y[:,1] = np.where(Yraw == 1, 1, 0)\n",
    "Y[:,2] = np.where(Yraw == 2, 1, 0)"
   ]
  },
  {
   "cell_type": "markdown",
   "metadata": {},
   "source": [
    "### Split data into Training, Testing, and Validation Sets"
   ]
  },
  {
   "cell_type": "code",
   "execution_count": 5,
   "metadata": {
    "collapsed": false
   },
   "outputs": [],
   "source": [
    "np.random.seed(1)"
   ]
  },
  {
   "cell_type": "code",
   "execution_count": 6,
   "metadata": {
    "collapsed": true
   },
   "outputs": [],
   "source": [
    "# split data into train, test, validation sets\n",
    "ixs = np.arange(len(X))\n",
    "np.random.shuffle(ixs)\n",
    "X = X[ixs,:]\n",
    "Y = Y[ixs,:]"
   ]
  },
  {
   "cell_type": "code",
   "execution_count": 7,
   "metadata": {
    "collapsed": true
   },
   "outputs": [],
   "source": [
    "Xtrain, Xtest, Xval = X[::2], X[1::4], X[3::4]"
   ]
  },
  {
   "cell_type": "code",
   "execution_count": 8,
   "metadata": {
    "collapsed": true
   },
   "outputs": [],
   "source": [
    "Ytrain, Ytest, Yval = Y[::2], Y[1::4], Y[3::4]"
   ]
  },
  {
   "cell_type": "code",
   "execution_count": 9,
   "metadata": {
    "collapsed": false
   },
   "outputs": [],
   "source": [
    "mlp1 = mlp.mlp(Xtrain, Ytrain, np.array([5]))"
   ]
  },
  {
   "cell_type": "code",
   "execution_count": 10,
   "metadata": {
    "collapsed": false
   },
   "outputs": [
    {
     "data": {
      "text/plain": [
       "array([4, 5, 3])"
      ]
     },
     "execution_count": 10,
     "metadata": {},
     "output_type": "execute_result"
    }
   ],
   "source": [
    "mlp1.arch"
   ]
  },
  {
   "cell_type": "code",
   "execution_count": 11,
   "metadata": {
    "collapsed": false
   },
   "outputs": [
    {
     "data": {
      "text/plain": [
       "[array([[ 0.11033664, -0.43306265,  0.38410034,  0.17074339,  0.44481908],\n",
       "        [-0.29306756, -0.32455565,  0.38692514,  0.17603952, -0.38818125],\n",
       "        [ 0.2284931 ,  0.22707377,  0.37836465,  0.1891935 , -0.33606227],\n",
       "        [-0.42943226, -0.42376978, -0.4218955 , -0.22699572,  0.32201879],\n",
       "        [ 0.03473156,  0.04724541,  0.30592173, -0.33614961, -0.19750412]]),\n",
       " array([[ 0.07002215,  0.38342332,  0.04983097],\n",
       "        [-0.39302284,  0.24546555, -0.21802559],\n",
       "        [ 0.25075034, -0.0915614 ,  0.29683068],\n",
       "        [ 0.20177398,  0.04591996, -0.29683307],\n",
       "        [-0.3593257 , -0.30917177, -0.37187183],\n",
       "        [-0.3204797 , -0.22395739,  0.17390477]])]"
      ]
     },
     "execution_count": 11,
     "metadata": {},
     "output_type": "execute_result"
    }
   ],
   "source": [
    "mlp1.weights"
   ]
  },
  {
   "cell_type": "code",
   "execution_count": 12,
   "metadata": {
    "collapsed": false,
    "scrolled": true
   },
   "outputs": [
    {
     "name": "stdout",
     "output_type": "stream",
     "text": [
      "Stopped after 4 epochs\n"
     ]
    }
   ],
   "source": [
    "mlp1.train(Xtrain, Ytrain, Xval, Yval,eta=0.15, momentum=0.9)"
   ]
  },
  {
   "cell_type": "code",
   "execution_count": 13,
   "metadata": {
    "collapsed": false
   },
   "outputs": [
    {
     "data": {
      "text/plain": [
       "[array([[  0.14964866,  -2.12507499,  -1.4729652 ,  -0.51338629,\n",
       "          -4.17434064],\n",
       "        [  0.01732789,  -1.67421913,  -0.48517372,  -0.12114566,\n",
       "          -1.00385634],\n",
       "        [  0.43029763,   2.33516367,   1.91649559,   1.81740698,\n",
       "          -3.92890038],\n",
       "        [ -0.98207742,  -5.16015396,  -3.95801982,  -3.08441986,\n",
       "           7.62953531],\n",
       "        [ -1.27020443,  -4.65622627,  -3.47715703,  -3.63002513,  10.8205909 ]]),\n",
       " array([[-4.04023765,  4.35610226, -1.77304624],\n",
       "        [-0.62914144,  0.9939414 , -1.9811564 ],\n",
       "        [ 4.0558924 , -5.31668286, -2.98481658],\n",
       "        [ 2.9049549 , -2.90146114, -3.78708957],\n",
       "        [ 2.62043286, -1.52701238, -5.18575731],\n",
       "        [-5.11085577, -8.72052363,  7.04814451]])]"
      ]
     },
     "execution_count": 13,
     "metadata": {},
     "output_type": "execute_result"
    }
   ],
   "source": [
    "mlp1.weights"
   ]
  },
  {
   "cell_type": "code",
   "execution_count": 14,
   "metadata": {
    "collapsed": false
   },
   "outputs": [
    {
     "name": "stdout",
     "output_type": "stream",
     "text": [
      "Error: 0.052631578947368474\n"
     ]
    },
    {
     "data": {
      "text/plain": [
       "array([[ 10.,   0.,   0.],\n",
       "       [  0.,  16.,   0.],\n",
       "       [  0.,   2.,  10.]])"
      ]
     },
     "execution_count": 14,
     "metadata": {},
     "output_type": "execute_result"
    }
   ],
   "source": [
    "mlp1.cfnmatrix(Xtest,Ytest)"
   ]
  },
  {
   "cell_type": "code",
   "execution_count": 15,
   "metadata": {
    "collapsed": false
   },
   "outputs": [
    {
     "data": {
      "text/plain": [
       "[array([[ -9.13578029e-04,  -7.90476297e-04,  -7.67508489e-04,\n",
       "          -1.22449000e-03,   6.52123425e-03],\n",
       "        [  1.07021098e-04,   1.59272216e-04,   1.15365106e-04,\n",
       "           6.76368385e-05,  -7.82821374e-04],\n",
       "        [ -3.89018071e-05,  -9.67166764e-05,  -9.48606133e-05,\n",
       "          -1.23959154e-04,   4.84337436e-04],\n",
       "        [ -9.11364537e-05,   4.22894332e-04,   2.77919961e-04,\n",
       "          -1.50750003e-06,   1.13035170e-04],\n",
       "        [ -1.74140417e-04,   4.85806180e-04,   2.99253094e-04,\n",
       "          -7.88874958e-05,   6.42826051e-04]]),\n",
       " array([[ -8.56542435e-06,  -1.88338321e-04,   1.84020015e-03],\n",
       "        [ -1.23576247e-04,   1.93612557e-04,   8.10100281e-04],\n",
       "        [ -4.40839084e-04,   9.80505835e-04,   7.17285272e-05],\n",
       "        [ -3.72299323e-04,   7.85006192e-04,   1.81727704e-04],\n",
       "        [ -3.31763877e-04,   6.41069806e-04,   4.12799173e-04],\n",
       "        [  2.37046156e-05,   3.33021173e-04,   2.95282101e-04]])]"
      ]
     },
     "execution_count": 15,
     "metadata": {},
     "output_type": "execute_result"
    }
   ],
   "source": [
    "mlp1.updates"
   ]
  },
  {
   "cell_type": "code",
   "execution_count": 16,
   "metadata": {
    "collapsed": true
   },
   "outputs": [],
   "source": [
    "# [array([[  7.02234844e-01,  -2.14514083e+00,  -1.35849254e+00,\n",
    "#            1.52521419e+00,  -2.76542928e+00],\n",
    "#         [ -1.26193034e-01,  -1.84743205e+00,  -3.87687652e-01,\n",
    "#            3.33906378e-01,  -4.77249539e-01],\n",
    "#         [  2.49553542e-03,   2.56618250e+00,   1.71350413e+00,\n",
    "#            1.79154186e+00,  -2.57369824e+00],\n",
    "#         [ -8.77007855e-01,  -5.65301350e+00,  -3.60447512e+00,\n",
    "#           -3.11439119e+00,   5.74884236e+00],\n",
    "#         [ -1.26312603e+00,  -5.09211177e+00,  -3.17574015e+00,\n",
    "#           -4.43642304e+00,   7.95662642e+00]]),\n",
    "#  array([[-3.51137687,  1.81132696,  0.42201971],\n",
    "#         [-0.88364363,  1.1497938 , -1.37610687],\n",
    "#         [ 4.41753029, -6.80977866, -2.5214    ],\n",
    "#         [ 2.68486245, -2.58314549, -3.27461225],\n",
    "#         [ 1.40679533,  2.4895717 , -5.05873974],\n",
    "#         [-5.35150919, -7.14516933,  6.5562209 ]])]"
   ]
  }
 ],
 "metadata": {
  "kernelspec": {
   "display_name": "Python 3",
   "language": "python",
   "name": "python3"
  },
  "language_info": {
   "codemirror_mode": {
    "name": "ipython",
    "version": 3
   },
   "file_extension": ".py",
   "mimetype": "text/x-python",
   "name": "python",
   "nbconvert_exporter": "python",
   "pygments_lexer": "ipython3",
   "version": "3.5.1"
  }
 },
 "nbformat": 4,
 "nbformat_minor": 0
}
