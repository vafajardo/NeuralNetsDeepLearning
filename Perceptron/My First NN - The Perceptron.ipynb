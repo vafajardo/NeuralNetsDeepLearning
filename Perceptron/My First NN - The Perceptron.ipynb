{
 "cells": [
  {
   "cell_type": "code",
   "execution_count": 1,
   "metadata": {
    "collapsed": true
   },
   "outputs": [],
   "source": [
    "import numpy as np"
   ]
  },
  {
   "cell_type": "markdown",
   "metadata": {},
   "source": [
    "# The Perceptron\n",
    "\n",
    "## Architecture\n",
    "- Input layer (+ bias node)\n",
    "- A single layer of output neurons \n",
    "- Weights: $w_{i,j}$ connecting input $i$ to output $j$\n",
    "\n",
    "## Activation Function\n",
    "- Threshold/Step-function\n",
    "\n",
    "## Error\n",
    "- $E = (y_k - t_k)$, where $y_k$ and $t_k$ are the output of NN and the target value, respectively.\n",
    "\n",
    "## Pseudocode\n",
    "- Initialize the weights connecting input nodes to output nodes.\n",
    "\n",
    "- Do while convergence criteria is not met (or for a specified number of iterations $T$):\n",
    "\n",
    "    - For each input vector:\n",
    "        1. Using the current value of the weights, compute the output $y_k$ for each output neuron.\n",
    "        2. Update each of the weights via:\n",
    "    $$w_{i,j} \\gets w_{i,j} - \\eta (y_j-t_j)x_i,$$\n",
    "where $x_i$ represents the value of the $i$-th input node and $\\eta$ is a pre-specified learning rate. (Note that in classification problems, only the weights connecting to incorrect outputs are updated.)"
   ]
  },
  {
   "cell_type": "markdown",
   "metadata": {},
   "source": [
    "### Example: The Logical OR \n",
    "- \\# input nodes = 2\n",
    "- \\# of output nodes = 1\n",
    "- Weight matrix $\\bf{W}$ is a $3\\times 1$ matrix (i.e., 2 input nodes + bias, and one output node)"
   ]
  },
  {
   "cell_type": "code",
   "execution_count": 2,
   "metadata": {
    "collapsed": false
   },
   "outputs": [],
   "source": [
    "inputs = np.array([[0,0],[0,1],[1,0],[1,1]])\n",
    "inputs = np.concatenate((inputs, np.ones(4).reshape(4,1)), axis=1) # add bias node\n",
    "targets = np.array([0,1,1,1]).reshape(4,1)"
   ]
  },
  {
   "cell_type": "code",
   "execution_count": 3,
   "metadata": {
    "collapsed": false
   },
   "outputs": [],
   "source": [
    "# initialize weights (to small values, both positive and small) UNIF(a,b)\n",
    "a,b = -0.25,0.25\n",
    "weights = a + np.random.rand(inputs.shape[1], targets.shape[1])*(b-a)"
   ]
  },
  {
   "cell_type": "code",
   "execution_count": 4,
   "metadata": {
    "collapsed": false
   },
   "outputs": [
    {
     "data": {
      "text/plain": [
       "array([[ 0.03216293],\n",
       "       [ 0.18454368],\n",
       "       [-0.21558359]])"
      ]
     },
     "execution_count": 4,
     "metadata": {},
     "output_type": "execute_result"
    }
   ],
   "source": [
    "weights"
   ]
  },
  {
   "cell_type": "code",
   "execution_count": 5,
   "metadata": {
    "collapsed": true
   },
   "outputs": [],
   "source": [
    "T = 6"
   ]
  },
  {
   "cell_type": "code",
   "execution_count": 6,
   "metadata": {
    "collapsed": false
   },
   "outputs": [
    {
     "name": "stdout",
     "output_type": "stream",
     "text": [
      "iteration 1\n",
      "[[0]\n",
      " [0]\n",
      " [0]\n",
      " [1]]\n",
      "iteration 2\n",
      "[[1]\n",
      " [1]\n",
      " [1]\n",
      " [1]]\n",
      "iteration 3\n",
      "[[1]\n",
      " [1]\n",
      " [1]\n",
      " [1]]\n",
      "iteration 4\n",
      "[[0]\n",
      " [1]\n",
      " [1]\n",
      " [1]]\n"
     ]
    }
   ],
   "source": [
    "# for i in range(T):\n",
    "converged = False\n",
    "i = 1\n",
    "eta = 0.25\n",
    "while not converged: \n",
    "    print('iteration {0}'.format(i))\n",
    "    # calculate sums for the output nodes\n",
    "    h = np.dot(inputs,weights)\n",
    "    # calculate outputs for the output nodes\n",
    "    y = np.where(h>0, 1, 0)\n",
    "    weights -= eta*np.dot(inputs.T, (y-targets)) # update the weights\n",
    "    converged = (y-targets == 0).all()\n",
    "    i += 1\n",
    "    print(y)"
   ]
  },
  {
   "cell_type": "code",
   "execution_count": 7,
   "metadata": {
    "collapsed": false
   },
   "outputs": [
    {
     "data": {
      "text/plain": [
       "array([[ 0.28216293],\n",
       "       [ 0.43454368],\n",
       "       [-0.21558359]])"
      ]
     },
     "execution_count": 7,
     "metadata": {},
     "output_type": "execute_result"
    }
   ],
   "source": [
    "weights"
   ]
  },
  {
   "cell_type": "markdown",
   "metadata": {},
   "source": [
    "## A Perceptron Class"
   ]
  },
  {
   "cell_type": "code",
   "execution_count": 8,
   "metadata": {
    "collapsed": true
   },
   "outputs": [],
   "source": [
    "class pcn:\n",
    "    def __init__(self, inputs, targets, weights):\n",
    "        self.inputs = inputs\n",
    "        self.nData = len(inputs)\n",
    "        self.nOut = targets.shape[1]\n",
    "        self.inputs = np.concatenate((inputs, np.ones(4).reshape(4,1)), axis=1) # add bias node\n",
    "        self.weights = weights\n",
    "        self.targets = targets\n",
    "        self.arch = (inputs.shape[1],self.nOut)\n",
    "    \n",
    "    def train(self, T=5, eta=0.25,printscn = False):\n",
    "        \"\"\"\n",
    "        This method trains the Perceptron.\n",
    "        \"\"\"\n",
    "        for i in range(T): \n",
    "            # calculate sums for the output nodes\n",
    "            h = np.dot(self.inputs,self.weights)\n",
    "            # calculate outputs for the output nodes\n",
    "            y = np.where(h>0, 1, 0)\n",
    "            self.weights -= eta*np.dot(inputs.T, (y-self.targets)) # update the weights\n",
    "            if printscn:\n",
    "                print('iteration {0}'.format(i))\n",
    "                print(y)\n",
    "                print(self.weights)\n",
    "    \n",
    "    def forward(self, newdata):\n",
    "        \"\"\"\n",
    "        This method uses the current sets of weights, and outputs\n",
    "        the firing of the output nodes when fed an input vector.\n",
    "        \"\"\"\n",
    "        # calculate sums for the output nodes\n",
    "        h = np.dot(newdata,self.weights)\n",
    "        # calculate outputs for the output nodes\n",
    "        y = np.where(h>0, 1, 0)\n",
    "        return y"
   ]
  },
  {
   "cell_type": "code",
   "execution_count": 9,
   "metadata": {
    "collapsed": false
   },
   "outputs": [],
   "source": [
    "weights = a + np.random.rand(inputs.shape[1], targets.shape[1])*(b-a)"
   ]
  },
  {
   "cell_type": "code",
   "execution_count": 10,
   "metadata": {
    "collapsed": true
   },
   "outputs": [],
   "source": [
    "p = pcn(np.array([[0,0],[0,1],[1,0],[1,1]]),\n",
    "       targets,\n",
    "       weights)"
   ]
  },
  {
   "cell_type": "code",
   "execution_count": 11,
   "metadata": {
    "collapsed": false
   },
   "outputs": [
    {
     "name": "stdout",
     "output_type": "stream",
     "text": [
      "iteration 0\n",
      "[[1]\n",
      " [0]\n",
      " [1]\n",
      " [0]]\n",
      "[[ 0.26571436]\n",
      " [ 0.33999216]\n",
      " [ 0.33630541]]\n",
      "iteration 1\n",
      "[[1]\n",
      " [1]\n",
      " [1]\n",
      " [1]]\n",
      "[[ 0.26571436]\n",
      " [ 0.33999216]\n",
      " [ 0.08630541]]\n",
      "iteration 2\n",
      "[[1]\n",
      " [1]\n",
      " [1]\n",
      " [1]]\n",
      "[[ 0.26571436]\n",
      " [ 0.33999216]\n",
      " [-0.16369459]]\n",
      "iteration 3\n",
      "[[0]\n",
      " [1]\n",
      " [1]\n",
      " [1]]\n",
      "[[ 0.26571436]\n",
      " [ 0.33999216]\n",
      " [-0.16369459]]\n",
      "iteration 4\n",
      "[[0]\n",
      " [1]\n",
      " [1]\n",
      " [1]]\n",
      "[[ 0.26571436]\n",
      " [ 0.33999216]\n",
      " [-0.16369459]]\n"
     ]
    }
   ],
   "source": [
    "p.train(printscn=True)"
   ]
  },
  {
   "cell_type": "code",
   "execution_count": 14,
   "metadata": {
    "collapsed": false
   },
   "outputs": [
    {
     "data": {
      "text/plain": [
       "array([1])"
      ]
     },
     "execution_count": 14,
     "metadata": {},
     "output_type": "execute_result"
    }
   ],
   "source": [
    "p.forward(inputs[3,:])"
   ]
  },
  {
   "cell_type": "code",
   "execution_count": 15,
   "metadata": {
    "collapsed": false
   },
   "outputs": [
    {
     "data": {
      "text/plain": [
       "array([[0],\n",
       "       [1],\n",
       "       [1],\n",
       "       [1]])"
      ]
     },
     "execution_count": 15,
     "metadata": {},
     "output_type": "execute_result"
    }
   ],
   "source": [
    "targets"
   ]
  },
  {
   "cell_type": "code",
   "execution_count": 16,
   "metadata": {
    "collapsed": false
   },
   "outputs": [
    {
     "data": {
      "text/plain": [
       "array([[ 0.26571436],\n",
       "       [ 0.33999216],\n",
       "       [-0.16369459]])"
      ]
     },
     "execution_count": 16,
     "metadata": {},
     "output_type": "execute_result"
    }
   ],
   "source": [
    "p.weights"
   ]
  },
  {
   "cell_type": "code",
   "execution_count": 17,
   "metadata": {
    "collapsed": false
   },
   "outputs": [
    {
     "data": {
      "text/plain": [
       "4"
      ]
     },
     "execution_count": 17,
     "metadata": {},
     "output_type": "execute_result"
    }
   ],
   "source": [
    "p.nData"
   ]
  },
  {
   "cell_type": "code",
   "execution_count": 18,
   "metadata": {
    "collapsed": false
   },
   "outputs": [
    {
     "data": {
      "text/plain": [
       "1"
      ]
     },
     "execution_count": 18,
     "metadata": {},
     "output_type": "execute_result"
    }
   ],
   "source": [
    "p.nOut"
   ]
  },
  {
   "cell_type": "code",
   "execution_count": 19,
   "metadata": {
    "collapsed": false
   },
   "outputs": [
    {
     "data": {
      "text/plain": [
       "(2, 1)"
      ]
     },
     "execution_count": 19,
     "metadata": {},
     "output_type": "execute_result"
    }
   ],
   "source": [
    "p.arch # (number of input nodes, number of output nodes)"
   ]
  }
 ],
 "metadata": {
  "kernelspec": {
   "display_name": "Python 3",
   "language": "python",
   "name": "python3"
  },
  "language_info": {
   "codemirror_mode": {
    "name": "ipython",
    "version": 3
   },
   "file_extension": ".py",
   "mimetype": "text/x-python",
   "name": "python",
   "nbconvert_exporter": "python",
   "pygments_lexer": "ipython3",
   "version": "3.5.1"
  }
 },
 "nbformat": 4,
 "nbformat_minor": 0
}
